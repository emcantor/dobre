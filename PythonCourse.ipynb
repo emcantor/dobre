{
  "nbformat": 4,
  "nbformat_minor": 0,
  "metadata": {
    "colab": {
      "name": "PythonCourse.ipynb",
      "provenance": [],
      "mount_file_id": "1C601aID4RXnudsFtua_EeQtjATyGdMmD",
      "authorship_tag": "ABX9TyMZTu9MnngSCxsddL84iC4T",
      "include_colab_link": true
    },
    "kernelspec": {
      "name": "python3",
      "display_name": "Python 3"
    }
  },
  "cells": [
    {
      "cell_type": "markdown",
      "metadata": {
        "id": "view-in-github",
        "colab_type": "text"
      },
      "source": [
        "<a href=\"https://colab.research.google.com/github/emcantor/dobre/blob/master/PythonCourse.ipynb\" target=\"_parent\"><img src=\"https://colab.research.google.com/assets/colab-badge.svg\" alt=\"Open In Colab\"/></a>"
      ]
    },
    {
      "cell_type": "code",
      "metadata": {
        "id": "KoNav_ik4fd4"
      },
      "source": [
        "  vc   "
      ],
      "execution_count": null,
      "outputs": []
    }
  ]
}